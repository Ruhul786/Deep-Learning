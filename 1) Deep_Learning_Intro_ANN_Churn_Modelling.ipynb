{
  "nbformat": 4,
  "nbformat_minor": 0,
  "metadata": {
    "colab": {
      "provenance": []
    },
    "kernelspec": {
      "name": "python3",
      "display_name": "Python 3"
    },
    "language_info": {
      "name": "python"
    },
    "gpuClass": "standard",
    "accelerator": "GPU"
  },
  "cells": [
    {
      "cell_type": "markdown",
      "source": [
        "### **1) Mounting Google Drive**"
      ],
      "metadata": {
        "id": "THTN0uBViJnj"
      }
    },
    {
      "cell_type": "code",
      "execution_count": 2,
      "metadata": {
        "id": "QwWKo9Epv_6b"
      },
      "outputs": [],
      "source": [
        "## To access data , we need to mount google drive at colab.\n",
        "## Initially the steps were longer for mounting drive but now product has become stable."
      ]
    },
    {
      "cell_type": "code",
      "source": [
        "from google.colab import drive\n",
        "drive.mount('/content/drive')"
      ],
      "metadata": {
        "colab": {
          "base_uri": "https://localhost:8080/"
        },
        "id": "zaatfOZMJqLG",
        "outputId": "2f1e60d7-e9ad-4899-ee61-29dee0894df7"
      },
      "execution_count": 3,
      "outputs": [
        {
          "output_type": "stream",
          "name": "stdout",
          "text": [
            "Mounted at /content/drive\n"
          ]
        }
      ]
    },
    {
      "cell_type": "code",
      "source": [
        "import os\n",
        "os.getcwd() ## need to know current working directory"
      ],
      "metadata": {
        "colab": {
          "base_uri": "https://localhost:8080/",
          "height": 36
        },
        "id": "BVasPPk-JqNf",
        "outputId": "fd5c429d-a58a-4dd1-96fa-b34353323527"
      },
      "execution_count": 4,
      "outputs": [
        {
          "output_type": "execute_result",
          "data": {
            "text/plain": [
              "'/content'"
            ],
            "application/vnd.google.colaboratory.intrinsic+json": {
              "type": "string"
            }
          },
          "metadata": {},
          "execution_count": 4
        }
      ]
    },
    {
      "cell_type": "code",
      "source": [
        "!ls  ## gives list of folders ## drive is google drive"
      ],
      "metadata": {
        "colab": {
          "base_uri": "https://localhost:8080/"
        },
        "id": "QZmWhCyyO4XD",
        "outputId": "374a116c-7d61-444b-9040-600d10ba48c3"
      },
      "execution_count": 5,
      "outputs": [
        {
          "output_type": "stream",
          "name": "stdout",
          "text": [
            "drive  sample_data\n"
          ]
        }
      ]
    },
    {
      "cell_type": "code",
      "source": [
        "## change directory to access churn modelling dataset since we are in content location"
      ],
      "metadata": {
        "id": "qmSAbJuGPBC0"
      },
      "execution_count": 6,
      "outputs": []
    },
    {
      "cell_type": "code",
      "source": [
        "os.chdir('/content/drive/MyDrive/Forsk_Dataset/Churn_Modelling.csv')  ## Throwing error since Churn_Modelling.csv file is not in directory."
      ],
      "metadata": {
        "colab": {
          "base_uri": "https://localhost:8080/",
          "height": 172
        },
        "id": "aX4Q8bV3rhmU",
        "outputId": "63669309-e07d-43ba-e395-292d6fff4626"
      },
      "execution_count": 28,
      "outputs": [
        {
          "output_type": "error",
          "ename": "NotADirectoryError",
          "evalue": "ignored",
          "traceback": [
            "\u001b[0;31m---------------------------------------------------------------------------\u001b[0m",
            "\u001b[0;31mNotADirectoryError\u001b[0m                        Traceback (most recent call last)",
            "\u001b[0;32m<ipython-input-28-c96627aeefb9>\u001b[0m in \u001b[0;36m<cell line: 1>\u001b[0;34m()\u001b[0m\n\u001b[0;32m----> 1\u001b[0;31m \u001b[0mos\u001b[0m\u001b[0;34m.\u001b[0m\u001b[0mchdir\u001b[0m\u001b[0;34m(\u001b[0m\u001b[0;34m'/content/drive/MyDrive/Forsk_Dataset/Churn_Modelling.csv'\u001b[0m\u001b[0;34m)\u001b[0m  \u001b[0;31m## Throwing error since Churn_Modelling.csv file is not in directory.\u001b[0m\u001b[0;34m\u001b[0m\u001b[0;34m\u001b[0m\u001b[0m\n\u001b[0m",
            "\u001b[0;31mNotADirectoryError\u001b[0m: [Errno 20] Not a directory: '/content/drive/MyDrive/Forsk_Dataset/Churn_Modelling.csv'"
          ]
        }
      ]
    },
    {
      "cell_type": "code",
      "source": [
        "os.chdir('/content/drive/MyDrive/Forsk_Dataset')  ## Correct Directory\n"
      ],
      "metadata": {
        "id": "9gItudBpsYgx"
      },
      "execution_count": 29,
      "outputs": []
    },
    {
      "cell_type": "code",
      "source": [
        "import os ## Current working Directory\n",
        "os.getcwd()"
      ],
      "metadata": {
        "colab": {
          "base_uri": "https://localhost:8080/",
          "height": 36
        },
        "id": "LCudi7Y_1_zf",
        "outputId": "14f9ff9f-4d77-46b9-ae01-b3294a953fc7"
      },
      "execution_count": 30,
      "outputs": [
        {
          "output_type": "execute_result",
          "data": {
            "text/plain": [
              "'/content/drive/MyDrive/Forsk_Dataset'"
            ],
            "application/vnd.google.colaboratory.intrinsic+json": {
              "type": "string"
            }
          },
          "metadata": {},
          "execution_count": 30
        }
      ]
    },
    {
      "cell_type": "markdown",
      "source": [
        "### **2) Import Pandas for Downloading Dataset**"
      ],
      "metadata": {
        "id": "r8yoX6PYippk"
      }
    },
    {
      "cell_type": "code",
      "source": [
        "import pandas as pd ## Loading the data\n",
        "dataset = pd. read_csv(\"Churn_Modelling.csv\")"
      ],
      "metadata": {
        "id": "mNdZY1RIsZeY"
      },
      "execution_count": 31,
      "outputs": []
    },
    {
      "cell_type": "code",
      "source": [
        "type(dataset)  ## Type is dataframe for object dataset"
      ],
      "metadata": {
        "colab": {
          "base_uri": "https://localhost:8080/"
        },
        "id": "7ZYUfElg2HLV",
        "outputId": "8bc8695b-c5b7-4cd7-bef7-37f68bb51c95"
      },
      "execution_count": 33,
      "outputs": [
        {
          "output_type": "execute_result",
          "data": {
            "text/plain": [
              "pandas.core.frame.DataFrame"
            ]
          },
          "metadata": {},
          "execution_count": 33
        }
      ]
    },
    {
      "cell_type": "code",
      "source": [
        "dataset.shape ## There are 10000 and 14 columns"
      ],
      "metadata": {
        "colab": {
          "base_uri": "https://localhost:8080/"
        },
        "id": "Jm7sYIkDsZid",
        "outputId": "37ddea0e-29cb-4a57-d663-5e23bf9f25cd"
      },
      "execution_count": 34,
      "outputs": [
        {
          "output_type": "execute_result",
          "data": {
            "text/plain": [
              "(10000, 14)"
            ]
          },
          "metadata": {},
          "execution_count": 34
        }
      ]
    },
    {
      "cell_type": "markdown",
      "source": [
        "## Problem Statement\n",
        "- Data from a Australian Bank.\n",
        "- Telling we have customers with customer id and other values.\n",
        "- Tenure tells how many years back acc opened.\n",
        "- Number of Products - if customer using debit card, credit card or loan taken etc\n",
        "- Is active member  - if regularly using account\n",
        "- Exited tells if customer has left the bank or not\n",
        "- 1 tells exited and 0 tells custoemr is with the bank\n",
        "\n",
        "**We neeed to built a model which can predict about customer, if customer will leave the bank or not (or close the account in othe terms)**\n",
        "\n",
        "**If customer will continue with the bank or not**\n",
        "\n",
        "\n",
        "- Exited is label and rest of column is features"
      ],
      "metadata": {
        "id": "J_aP_9MVt556"
      }
    },
    {
      "cell_type": "code",
      "source": [
        "dataset.head()"
      ],
      "metadata": {
        "colab": {
          "base_uri": "https://localhost:8080/",
          "height": 206
        },
        "id": "y_H-ltFqsYj0",
        "outputId": "ca2726e9-7039-4976-931f-ccaa5a622d55"
      },
      "execution_count": 35,
      "outputs": [
        {
          "output_type": "execute_result",
          "data": {
            "text/plain": [
              "   RowNumber  CustomerId   Surname  CreditScore Geography  Gender  Age  \\\n",
              "0          1    15634602  Hargrave          619    France  Female   42   \n",
              "1          2    15647311      Hill          608     Spain  Female   41   \n",
              "2          3    15619304      Onio          502    France  Female   42   \n",
              "3          4    15701354      Boni          699    France  Female   39   \n",
              "4          5    15737888  Mitchell          850     Spain  Female   43   \n",
              "\n",
              "   Tenure    Balance  NumOfProducts  HasCrCard  IsActiveMember  \\\n",
              "0       2       0.00              1          1               1   \n",
              "1       1   83807.86              1          0               1   \n",
              "2       8  159660.80              3          1               0   \n",
              "3       1       0.00              2          0               0   \n",
              "4       2  125510.82              1          1               1   \n",
              "\n",
              "   EstimatedSalary  Exited  \n",
              "0        101348.88       1  \n",
              "1        112542.58       0  \n",
              "2        113931.57       1  \n",
              "3         93826.63       0  \n",
              "4         79084.10       0  "
            ],
            "text/html": [
              "\n",
              "  <div id=\"df-f57f8126-9366-4015-9a62-f8eb6e5b71a4\">\n",
              "    <div class=\"colab-df-container\">\n",
              "      <div>\n",
              "<style scoped>\n",
              "    .dataframe tbody tr th:only-of-type {\n",
              "        vertical-align: middle;\n",
              "    }\n",
              "\n",
              "    .dataframe tbody tr th {\n",
              "        vertical-align: top;\n",
              "    }\n",
              "\n",
              "    .dataframe thead th {\n",
              "        text-align: right;\n",
              "    }\n",
              "</style>\n",
              "<table border=\"1\" class=\"dataframe\">\n",
              "  <thead>\n",
              "    <tr style=\"text-align: right;\">\n",
              "      <th></th>\n",
              "      <th>RowNumber</th>\n",
              "      <th>CustomerId</th>\n",
              "      <th>Surname</th>\n",
              "      <th>CreditScore</th>\n",
              "      <th>Geography</th>\n",
              "      <th>Gender</th>\n",
              "      <th>Age</th>\n",
              "      <th>Tenure</th>\n",
              "      <th>Balance</th>\n",
              "      <th>NumOfProducts</th>\n",
              "      <th>HasCrCard</th>\n",
              "      <th>IsActiveMember</th>\n",
              "      <th>EstimatedSalary</th>\n",
              "      <th>Exited</th>\n",
              "    </tr>\n",
              "  </thead>\n",
              "  <tbody>\n",
              "    <tr>\n",
              "      <th>0</th>\n",
              "      <td>1</td>\n",
              "      <td>15634602</td>\n",
              "      <td>Hargrave</td>\n",
              "      <td>619</td>\n",
              "      <td>France</td>\n",
              "      <td>Female</td>\n",
              "      <td>42</td>\n",
              "      <td>2</td>\n",
              "      <td>0.00</td>\n",
              "      <td>1</td>\n",
              "      <td>1</td>\n",
              "      <td>1</td>\n",
              "      <td>101348.88</td>\n",
              "      <td>1</td>\n",
              "    </tr>\n",
              "    <tr>\n",
              "      <th>1</th>\n",
              "      <td>2</td>\n",
              "      <td>15647311</td>\n",
              "      <td>Hill</td>\n",
              "      <td>608</td>\n",
              "      <td>Spain</td>\n",
              "      <td>Female</td>\n",
              "      <td>41</td>\n",
              "      <td>1</td>\n",
              "      <td>83807.86</td>\n",
              "      <td>1</td>\n",
              "      <td>0</td>\n",
              "      <td>1</td>\n",
              "      <td>112542.58</td>\n",
              "      <td>0</td>\n",
              "    </tr>\n",
              "    <tr>\n",
              "      <th>2</th>\n",
              "      <td>3</td>\n",
              "      <td>15619304</td>\n",
              "      <td>Onio</td>\n",
              "      <td>502</td>\n",
              "      <td>France</td>\n",
              "      <td>Female</td>\n",
              "      <td>42</td>\n",
              "      <td>8</td>\n",
              "      <td>159660.80</td>\n",
              "      <td>3</td>\n",
              "      <td>1</td>\n",
              "      <td>0</td>\n",
              "      <td>113931.57</td>\n",
              "      <td>1</td>\n",
              "    </tr>\n",
              "    <tr>\n",
              "      <th>3</th>\n",
              "      <td>4</td>\n",
              "      <td>15701354</td>\n",
              "      <td>Boni</td>\n",
              "      <td>699</td>\n",
              "      <td>France</td>\n",
              "      <td>Female</td>\n",
              "      <td>39</td>\n",
              "      <td>1</td>\n",
              "      <td>0.00</td>\n",
              "      <td>2</td>\n",
              "      <td>0</td>\n",
              "      <td>0</td>\n",
              "      <td>93826.63</td>\n",
              "      <td>0</td>\n",
              "    </tr>\n",
              "    <tr>\n",
              "      <th>4</th>\n",
              "      <td>5</td>\n",
              "      <td>15737888</td>\n",
              "      <td>Mitchell</td>\n",
              "      <td>850</td>\n",
              "      <td>Spain</td>\n",
              "      <td>Female</td>\n",
              "      <td>43</td>\n",
              "      <td>2</td>\n",
              "      <td>125510.82</td>\n",
              "      <td>1</td>\n",
              "      <td>1</td>\n",
              "      <td>1</td>\n",
              "      <td>79084.10</td>\n",
              "      <td>0</td>\n",
              "    </tr>\n",
              "  </tbody>\n",
              "</table>\n",
              "</div>\n",
              "      <button class=\"colab-df-convert\" onclick=\"convertToInteractive('df-f57f8126-9366-4015-9a62-f8eb6e5b71a4')\"\n",
              "              title=\"Convert this dataframe to an interactive table.\"\n",
              "              style=\"display:none;\">\n",
              "        \n",
              "  <svg xmlns=\"http://www.w3.org/2000/svg\" height=\"24px\"viewBox=\"0 0 24 24\"\n",
              "       width=\"24px\">\n",
              "    <path d=\"M0 0h24v24H0V0z\" fill=\"none\"/>\n",
              "    <path d=\"M18.56 5.44l.94 2.06.94-2.06 2.06-.94-2.06-.94-.94-2.06-.94 2.06-2.06.94zm-11 1L8.5 8.5l.94-2.06 2.06-.94-2.06-.94L8.5 2.5l-.94 2.06-2.06.94zm10 10l.94 2.06.94-2.06 2.06-.94-2.06-.94-.94-2.06-.94 2.06-2.06.94z\"/><path d=\"M17.41 7.96l-1.37-1.37c-.4-.4-.92-.59-1.43-.59-.52 0-1.04.2-1.43.59L10.3 9.45l-7.72 7.72c-.78.78-.78 2.05 0 2.83L4 21.41c.39.39.9.59 1.41.59.51 0 1.02-.2 1.41-.59l7.78-7.78 2.81-2.81c.8-.78.8-2.07 0-2.86zM5.41 20L4 18.59l7.72-7.72 1.47 1.35L5.41 20z\"/>\n",
              "  </svg>\n",
              "      </button>\n",
              "      \n",
              "  <style>\n",
              "    .colab-df-container {\n",
              "      display:flex;\n",
              "      flex-wrap:wrap;\n",
              "      gap: 12px;\n",
              "    }\n",
              "\n",
              "    .colab-df-convert {\n",
              "      background-color: #E8F0FE;\n",
              "      border: none;\n",
              "      border-radius: 50%;\n",
              "      cursor: pointer;\n",
              "      display: none;\n",
              "      fill: #1967D2;\n",
              "      height: 32px;\n",
              "      padding: 0 0 0 0;\n",
              "      width: 32px;\n",
              "    }\n",
              "\n",
              "    .colab-df-convert:hover {\n",
              "      background-color: #E2EBFA;\n",
              "      box-shadow: 0px 1px 2px rgba(60, 64, 67, 0.3), 0px 1px 3px 1px rgba(60, 64, 67, 0.15);\n",
              "      fill: #174EA6;\n",
              "    }\n",
              "\n",
              "    [theme=dark] .colab-df-convert {\n",
              "      background-color: #3B4455;\n",
              "      fill: #D2E3FC;\n",
              "    }\n",
              "\n",
              "    [theme=dark] .colab-df-convert:hover {\n",
              "      background-color: #434B5C;\n",
              "      box-shadow: 0px 1px 3px 1px rgba(0, 0, 0, 0.15);\n",
              "      filter: drop-shadow(0px 1px 2px rgba(0, 0, 0, 0.3));\n",
              "      fill: #FFFFFF;\n",
              "    }\n",
              "  </style>\n",
              "\n",
              "      <script>\n",
              "        const buttonEl =\n",
              "          document.querySelector('#df-f57f8126-9366-4015-9a62-f8eb6e5b71a4 button.colab-df-convert');\n",
              "        buttonEl.style.display =\n",
              "          google.colab.kernel.accessAllowed ? 'block' : 'none';\n",
              "\n",
              "        async function convertToInteractive(key) {\n",
              "          const element = document.querySelector('#df-f57f8126-9366-4015-9a62-f8eb6e5b71a4');\n",
              "          const dataTable =\n",
              "            await google.colab.kernel.invokeFunction('convertToInteractive',\n",
              "                                                     [key], {});\n",
              "          if (!dataTable) return;\n",
              "\n",
              "          const docLinkHtml = 'Like what you see? Visit the ' +\n",
              "            '<a target=\"_blank\" href=https://colab.research.google.com/notebooks/data_table.ipynb>data table notebook</a>'\n",
              "            + ' to learn more about interactive tables.';\n",
              "          element.innerHTML = '';\n",
              "          dataTable['output_type'] = 'display_data';\n",
              "          await google.colab.output.renderOutput(dataTable, element);\n",
              "          const docLink = document.createElement('div');\n",
              "          docLink.innerHTML = docLinkHtml;\n",
              "          element.appendChild(docLink);\n",
              "        }\n",
              "      </script>\n",
              "    </div>\n",
              "  </div>\n",
              "  "
            ]
          },
          "metadata": {},
          "execution_count": 35
        }
      ]
    },
    {
      "cell_type": "markdown",
      "source": [
        "- We have to do decision making if all columns will add value to ML model\n",
        "- For simplicity we will not consider RowNumber (since system generated), CustomerId (since given by bank) and Surname  in features.\n",
        "- They are not important in Decision making since they will not decide wheter the customer will exit or not.\n",
        "- This process is called feature selection"
      ],
      "metadata": {
        "id": "TFinLfTpwFT1"
      }
    },
    {
      "cell_type": "markdown",
      "source": [
        "### **3) Import Libraries**"
      ],
      "metadata": {
        "id": "A9qKsokSjBfj"
      }
    },
    {
      "cell_type": "code",
      "source": [
        "import numpy as np\n",
        "import matplotlib.pyplot as plt\n",
        "import pandas as pd"
      ],
      "metadata": {
        "id": "6k7HKtk3vlOL"
      },
      "execution_count": 36,
      "outputs": []
    },
    {
      "cell_type": "code",
      "source": [
        "features = dataset.iloc[:, 3:13].values ## Set of InDependent variable\n",
        "labels = dataset.iloc[:,13].values  ## Set of Dependent variable"
      ],
      "metadata": {
        "id": "QQaUH_lZvlRG"
      },
      "execution_count": 37,
      "outputs": []
    },
    {
      "cell_type": "code",
      "source": [
        "# labels = dataset.iloc[:,13]"
      ],
      "metadata": {
        "id": "bLF0-U6hKed9"
      },
      "execution_count": 38,
      "outputs": []
    },
    {
      "cell_type": "code",
      "source": [
        "## iloc used for selection of rows and columns"
      ],
      "metadata": {
        "id": "nxIy8Qppm7ZD"
      },
      "execution_count": 39,
      "outputs": []
    },
    {
      "cell_type": "code",
      "source": [
        "type (features)"
      ],
      "metadata": {
        "colab": {
          "base_uri": "https://localhost:8080/"
        },
        "id": "82VyGHYTnQVW",
        "outputId": "10db6282-3e85-4abd-bed8-2941ff8ef4c7"
      },
      "execution_count": 40,
      "outputs": [
        {
          "output_type": "execute_result",
          "data": {
            "text/plain": [
              "numpy.ndarray"
            ]
          },
          "metadata": {},
          "execution_count": 40
        }
      ]
    },
    {
      "cell_type": "code",
      "source": [
        "features.shape ## 10000 rows and 10 columns"
      ],
      "metadata": {
        "colab": {
          "base_uri": "https://localhost:8080/"
        },
        "id": "kBDdzITTvlUj",
        "outputId": "67a64388-4637-4776-a77e-bda708b5ca0b"
      },
      "execution_count": 41,
      "outputs": [
        {
          "output_type": "execute_result",
          "data": {
            "text/plain": [
              "(10000, 10)"
            ]
          },
          "metadata": {},
          "execution_count": 41
        }
      ]
    },
    {
      "cell_type": "code",
      "source": [
        "features"
      ],
      "metadata": {
        "colab": {
          "base_uri": "https://localhost:8080/"
        },
        "id": "mDA-PKHbvoSf",
        "outputId": "26b901ef-38ca-42e8-8edf-f92c252cb84b"
      },
      "execution_count": 42,
      "outputs": [
        {
          "output_type": "execute_result",
          "data": {
            "text/plain": [
              "array([[619, 'France', 'Female', ..., 1, 1, 101348.88],\n",
              "       [608, 'Spain', 'Female', ..., 0, 1, 112542.58],\n",
              "       [502, 'France', 'Female', ..., 1, 0, 113931.57],\n",
              "       ...,\n",
              "       [709, 'France', 'Female', ..., 0, 1, 42085.58],\n",
              "       [772, 'Germany', 'Male', ..., 1, 0, 92888.52],\n",
              "       [792, 'France', 'Female', ..., 1, 0, 38190.78]], dtype=object)"
            ]
          },
          "metadata": {},
          "execution_count": 42
        }
      ]
    },
    {
      "cell_type": "code",
      "source": [
        "features[0,:] ## Print first row features. iloc does not work since it works for dataframe."
      ],
      "metadata": {
        "colab": {
          "base_uri": "https://localhost:8080/"
        },
        "id": "029bqyqnxCTY",
        "outputId": "0f9a944e-c885-44a4-ee07-0434f7a68870"
      },
      "execution_count": 43,
      "outputs": [
        {
          "output_type": "execute_result",
          "data": {
            "text/plain": [
              "array([619, 'France', 'Female', 42, 2, 0.0, 1, 1, 1, 101348.88],\n",
              "      dtype=object)"
            ]
          },
          "metadata": {},
          "execution_count": 43
        }
      ]
    },
    {
      "cell_type": "code",
      "source": [
        "##'France', 'Female' is in text format but we need to convert into numeric format for training purpose."
      ],
      "metadata": {
        "id": "JSlDV1nHxURL"
      },
      "execution_count": 44,
      "outputs": []
    },
    {
      "cell_type": "code",
      "source": [
        "labels"
      ],
      "metadata": {
        "colab": {
          "base_uri": "https://localhost:8080/"
        },
        "id": "bkTAigP_nrop",
        "outputId": "9e930303-ee15-4de8-c01e-950488b2083b"
      },
      "execution_count": 45,
      "outputs": [
        {
          "output_type": "execute_result",
          "data": {
            "text/plain": [
              "array([1, 0, 1, ..., 1, 1, 0])"
            ]
          },
          "metadata": {},
          "execution_count": 45
        }
      ]
    },
    {
      "cell_type": "code",
      "source": [
        "labels.shape"
      ],
      "metadata": {
        "colab": {
          "base_uri": "https://localhost:8080/"
        },
        "id": "8dlLQ9mbvoVS",
        "outputId": "279f10e5-191c-4993-eef5-3894a588f784"
      },
      "execution_count": 46,
      "outputs": [
        {
          "output_type": "execute_result",
          "data": {
            "text/plain": [
              "(10000,)"
            ]
          },
          "metadata": {},
          "execution_count": 46
        }
      ]
    },
    {
      "cell_type": "code",
      "source": [
        "dataset.dtypes  ## we have removed first 3 columns from this dataset "
      ],
      "metadata": {
        "colab": {
          "base_uri": "https://localhost:8080/"
        },
        "id": "Jj211uRXvoZ9",
        "outputId": "8228d98b-9837-4675-b28a-f549bdae73ba"
      },
      "execution_count": 47,
      "outputs": [
        {
          "output_type": "execute_result",
          "data": {
            "text/plain": [
              "RowNumber            int64\n",
              "CustomerId           int64\n",
              "Surname             object\n",
              "CreditScore          int64\n",
              "Geography           object\n",
              "Gender              object\n",
              "Age                  int64\n",
              "Tenure               int64\n",
              "Balance            float64\n",
              "NumOfProducts        int64\n",
              "HasCrCard            int64\n",
              "IsActiveMember       int64\n",
              "EstimatedSalary    float64\n",
              "Exited               int64\n",
              "dtype: object"
            ]
          },
          "metadata": {},
          "execution_count": 47
        }
      ]
    },
    {
      "cell_type": "code",
      "source": [
        "## If features data has text data in column, we have to convert text/categorical data into numeric format.\n",
        "## We have to encode categorical data into numeric format.\n",
        "## We call that as onehot encoding "
      ],
      "metadata": {
        "id": "0IotYY2mvofL"
      },
      "execution_count": 48,
      "outputs": []
    },
    {
      "cell_type": "code",
      "source": [
        "features[0,]"
      ],
      "metadata": {
        "id": "EebxUuYly922",
        "colab": {
          "base_uri": "https://localhost:8080/"
        },
        "outputId": "33b9da73-2d69-4a78-de17-57751538a6c0"
      },
      "execution_count": 49,
      "outputs": [
        {
          "output_type": "execute_result",
          "data": {
            "text/plain": [
              "array([619, 'France', 'Female', 42, 2, 0.0, 1, 1, 1, 101348.88],\n",
              "      dtype=object)"
            ]
          },
          "metadata": {},
          "execution_count": 49
        }
      ]
    },
    {
      "cell_type": "code",
      "source": [
        "features[0:10, 1] ## Sample Data"
      ],
      "metadata": {
        "id": "jxCePbLIy97G",
        "colab": {
          "base_uri": "https://localhost:8080/"
        },
        "outputId": "0af8667c-3e16-4c2f-f9c8-808673ae2c82"
      },
      "execution_count": 50,
      "outputs": [
        {
          "output_type": "execute_result",
          "data": {
            "text/plain": [
              "array(['France', 'Spain', 'France', 'France', 'Spain', 'Spain', 'France',\n",
              "       'Germany', 'France', 'France'], dtype=object)"
            ]
          },
          "metadata": {},
          "execution_count": 50
        }
      ]
    },
    {
      "cell_type": "code",
      "source": [
        "features[0:10, 0:2]"
      ],
      "metadata": {
        "id": "fos3OYk1y9-G",
        "colab": {
          "base_uri": "https://localhost:8080/"
        },
        "outputId": "7359d793-351f-4c44-af5c-d301b5f41563"
      },
      "execution_count": 51,
      "outputs": [
        {
          "output_type": "execute_result",
          "data": {
            "text/plain": [
              "array([[619, 'France'],\n",
              "       [608, 'Spain'],\n",
              "       [502, 'France'],\n",
              "       [699, 'France'],\n",
              "       [850, 'Spain'],\n",
              "       [645, 'Spain'],\n",
              "       [822, 'France'],\n",
              "       [376, 'Germany'],\n",
              "       [501, 'France'],\n",
              "       [684, 'France']], dtype=object)"
            ]
          },
          "metadata": {},
          "execution_count": 51
        }
      ]
    },
    {
      "cell_type": "code",
      "source": [
        "dataset['Geography'].unique()"
      ],
      "metadata": {
        "colab": {
          "base_uri": "https://localhost:8080/"
        },
        "id": "4PLREG3Qm5jJ",
        "outputId": "115a6145-ddb7-42ed-b67d-6a083208c001"
      },
      "execution_count": 52,
      "outputs": [
        {
          "output_type": "execute_result",
          "data": {
            "text/plain": [
              "array(['France', 'Spain', 'Germany'], dtype=object)"
            ]
          },
          "metadata": {},
          "execution_count": 52
        }
      ]
    },
    {
      "cell_type": "markdown",
      "source": [
        "### **4) Feature Engineering**"
      ],
      "metadata": {
        "id": "IjtqPqLqkETz"
      }
    },
    {
      "cell_type": "code",
      "source": [
        "## features has 2 columns which are categorical. We have to use one hot encoding"
      ],
      "metadata": {
        "id": "631D5YW_s7TK"
      },
      "execution_count": 53,
      "outputs": []
    },
    {
      "cell_type": "code",
      "source": [
        "features.shape"
      ],
      "metadata": {
        "colab": {
          "base_uri": "https://localhost:8080/"
        },
        "id": "XSbCQkM3tPkY",
        "outputId": "26edfe51-e20d-4a61-9540-d45f5e661d9a"
      },
      "execution_count": 54,
      "outputs": [
        {
          "output_type": "execute_result",
          "data": {
            "text/plain": [
              "(10000, 10)"
            ]
          },
          "metadata": {},
          "execution_count": 54
        }
      ]
    },
    {
      "cell_type": "code",
      "source": [
        "features"
      ],
      "metadata": {
        "colab": {
          "base_uri": "https://localhost:8080/"
        },
        "id": "_3Uq3hActSHm",
        "outputId": "f58e2e90-732b-4e68-cb30-e5bc66b75619"
      },
      "execution_count": 55,
      "outputs": [
        {
          "output_type": "execute_result",
          "data": {
            "text/plain": [
              "array([[619, 'France', 'Female', ..., 1, 1, 101348.88],\n",
              "       [608, 'Spain', 'Female', ..., 0, 1, 112542.58],\n",
              "       [502, 'France', 'Female', ..., 1, 0, 113931.57],\n",
              "       ...,\n",
              "       [709, 'France', 'Female', ..., 0, 1, 42085.58],\n",
              "       [772, 'Germany', 'Male', ..., 1, 0, 92888.52],\n",
              "       [792, 'France', 'Female', ..., 1, 0, 38190.78]], dtype=object)"
            ]
          },
          "metadata": {},
          "execution_count": 55
        }
      ]
    },
    {
      "cell_type": "code",
      "source": [
        "labels"
      ],
      "metadata": {
        "colab": {
          "base_uri": "https://localhost:8080/"
        },
        "id": "J2j7CxU-tHS3",
        "outputId": "30846e53-6883-45a5-85d9-9daeda636e45"
      },
      "execution_count": 56,
      "outputs": [
        {
          "output_type": "execute_result",
          "data": {
            "text/plain": [
              "array([1, 0, 1, ..., 1, 1, 0])"
            ]
          },
          "metadata": {},
          "execution_count": 56
        }
      ]
    },
    {
      "cell_type": "code",
      "source": [
        "## features has 2 columns which are categorical. We have to use one hot encoding"
      ],
      "metadata": {
        "id": "G7LyPrfXtHV5"
      },
      "execution_count": 57,
      "outputs": []
    },
    {
      "cell_type": "code",
      "source": [
        "from sklearn.compose import ColumnTransformer\n",
        "from sklearn.preprocessing import OneHotEncoder\n",
        "\n",
        "columnTransformer = ColumnTransformer([('encoder', OneHotEncoder(), [1,2])], remainder='passthrough') ## We have created columnTransformer object\n",
        "\n",
        "features = np.array(columnTransformer.fit_transform(features), dtype = np.float32) ## np is numpy\n"
      ],
      "metadata": {
        "id": "gAn9yA7etHYl"
      },
      "execution_count": 58,
      "outputs": []
    },
    {
      "cell_type": "code",
      "source": [
        "###### Code explanation\n",
        "## from sklearn.compose import ColumnTransformer\n",
        "## from sklearn.preprocessing import OneHotEncoder\n",
        " # We are going to call method ColumnTransformer which tranform column to new format\n",
        "\n",
        "## But we need to tell ColumnTransformer that we need to convert categorical to numerical data.\n",
        "\n",
        "## columnTransformer = ColumnTransformer([('encoder', OneHotEncoder(), [1,2])], remainder='passthrough') \n",
        " ## By calling ColumnTransformer we tell \n",
        " ## We have created columnTransformer object\n",
        " # We have to specify to ColumnTransformer to do one hot encoding.\n",
        " # We tell that we need to perform encoding  'encoder'  by using OneHotEncoder() is for one hot coding\n",
        " # [1,2] - Columnindex on which we perform one hot encoding\n",
        " # remainder='passthrough' - We are requesting ColumnTransformer to passthrough and don't do any changes on any other columns\n",
        "\n",
        "## We have created object and given instructions to do one hot encoding\n",
        "## But We have to give data \n",
        "\n",
        "## features = np.array(columnTransformer.fit_transform(features), dtype = np.float32)\n",
        " # We are passing the data to fit_transform so data get transformed. We also specified that all numerical value is in float format\n"
      ],
      "metadata": {
        "id": "akzlVurMtHbl"
      },
      "execution_count": 59,
      "outputs": []
    },
    {
      "cell_type": "code",
      "source": [
        "features ## Now categorical data have been transformed to numerical data. "
      ],
      "metadata": {
        "colab": {
          "base_uri": "https://localhost:8080/"
        },
        "id": "-WRV1AuSvG5B",
        "outputId": "af8a6d36-457a-4b33-a9fc-684a2f92a3aa"
      },
      "execution_count": 60,
      "outputs": [
        {
          "output_type": "execute_result",
          "data": {
            "text/plain": [
              "array([[1.0000000e+00, 0.0000000e+00, 0.0000000e+00, ..., 1.0000000e+00,\n",
              "        1.0000000e+00, 1.0134888e+05],\n",
              "       [0.0000000e+00, 0.0000000e+00, 1.0000000e+00, ..., 0.0000000e+00,\n",
              "        1.0000000e+00, 1.1254258e+05],\n",
              "       [1.0000000e+00, 0.0000000e+00, 0.0000000e+00, ..., 1.0000000e+00,\n",
              "        0.0000000e+00, 1.1393157e+05],\n",
              "       ...,\n",
              "       [1.0000000e+00, 0.0000000e+00, 0.0000000e+00, ..., 0.0000000e+00,\n",
              "        1.0000000e+00, 4.2085578e+04],\n",
              "       [0.0000000e+00, 1.0000000e+00, 0.0000000e+00, ..., 1.0000000e+00,\n",
              "        0.0000000e+00, 9.2888523e+04],\n",
              "       [1.0000000e+00, 0.0000000e+00, 0.0000000e+00, ..., 1.0000000e+00,\n",
              "        0.0000000e+00, 3.8190781e+04]], dtype=float32)"
            ]
          },
          "metadata": {},
          "execution_count": 60
        }
      ]
    },
    {
      "cell_type": "code",
      "source": [
        "features.shape"
      ],
      "metadata": {
        "colab": {
          "base_uri": "https://localhost:8080/"
        },
        "id": "W7KVkVNly0Jo",
        "outputId": "0d4f0559-b9e0-4070-b92d-7c65bd01bf63"
      },
      "execution_count": 61,
      "outputs": [
        {
          "output_type": "execute_result",
          "data": {
            "text/plain": [
              "(10000, 13)"
            ]
          },
          "metadata": {},
          "execution_count": 61
        }
      ]
    },
    {
      "cell_type": "code",
      "source": [
        "features[0]"
      ],
      "metadata": {
        "colab": {
          "base_uri": "https://localhost:8080/"
        },
        "id": "FyEJrrcEy0Mc",
        "outputId": "a4eb035c-ea9a-49cf-e9ad-1e5e76abd1d2"
      },
      "execution_count": 62,
      "outputs": [
        {
          "output_type": "execute_result",
          "data": {
            "text/plain": [
              "array([1.0000000e+00, 0.0000000e+00, 0.0000000e+00, 1.0000000e+00,\n",
              "       0.0000000e+00, 6.1900000e+02, 4.2000000e+01, 2.0000000e+00,\n",
              "       0.0000000e+00, 1.0000000e+00, 1.0000000e+00, 1.0000000e+00,\n",
              "       1.0134888e+05], dtype=float32)"
            ]
          },
          "metadata": {},
          "execution_count": 62
        }
      ]
    },
    {
      "cell_type": "code",
      "source": [
        "## Note: After One hot encoding the dummy variables comes in the beginning.\n",
        "## 1.0000000e+00, 0.0000000e+00, 0.0000000e+00 represents Geography\n",
        "## 1.0000000e+00, 0.0000000e+00 represents Gender\n",
        "## We can also do one hot encoding for label data"
      ],
      "metadata": {
        "id": "YQnZYdZ4y0PE"
      },
      "execution_count": 63,
      "outputs": []
    },
    {
      "cell_type": "code",
      "source": [
        "features = features[:, 1:] ## Drop the first dummy column for Geography"
      ],
      "metadata": {
        "id": "CLIpAOyyy0Ry"
      },
      "execution_count": 64,
      "outputs": []
    },
    {
      "cell_type": "code",
      "source": [
        "features[0]  ## First column contatining 1.0000000e+00 is dropped"
      ],
      "metadata": {
        "colab": {
          "base_uri": "https://localhost:8080/"
        },
        "id": "3EAG2OsQy0Uq",
        "outputId": "5e8c0a76-c040-4385-c7b4-2520f4ba1669"
      },
      "execution_count": 65,
      "outputs": [
        {
          "output_type": "execute_result",
          "data": {
            "text/plain": [
              "array([0.0000000e+00, 0.0000000e+00, 1.0000000e+00, 0.0000000e+00,\n",
              "       6.1900000e+02, 4.2000000e+01, 2.0000000e+00, 0.0000000e+00,\n",
              "       1.0000000e+00, 1.0000000e+00, 1.0000000e+00, 1.0134888e+05],\n",
              "      dtype=float32)"
            ]
          },
          "metadata": {},
          "execution_count": 65
        }
      ]
    },
    {
      "cell_type": "code",
      "source": [
        "## Now we have to drop the column from Gender also"
      ],
      "metadata": {
        "id": "7mwqK6YDy0Xm"
      },
      "execution_count": 66,
      "outputs": []
    },
    {
      "cell_type": "code",
      "source": [
        "features = features[:, [0,1,3,4,5,6,7,8,9,10,11]] ## Drop the column for Gender"
      ],
      "metadata": {
        "id": "blPY9xURy0aZ"
      },
      "execution_count": 67,
      "outputs": []
    },
    {
      "cell_type": "code",
      "source": [
        "features.shape  ## We have 10000 records and 11 columns"
      ],
      "metadata": {
        "colab": {
          "base_uri": "https://localhost:8080/"
        },
        "id": "JMegcUB5y0dJ",
        "outputId": "7d09998c-f6d1-4e9e-b62d-c081036604ab"
      },
      "execution_count": 68,
      "outputs": [
        {
          "output_type": "execute_result",
          "data": {
            "text/plain": [
              "(10000, 11)"
            ]
          },
          "metadata": {},
          "execution_count": 68
        }
      ]
    },
    {
      "cell_type": "code",
      "source": [
        "## The above process is feature engineering\n",
        "## Before we feed to ANN"
      ],
      "metadata": {
        "id": "bkEFUpoOy0gG"
      },
      "execution_count": 69,
      "outputs": []
    },
    {
      "cell_type": "markdown",
      "source": [
        "### **5) Train Test Split**"
      ],
      "metadata": {
        "id": "ZwCSe7wAk60D"
      }
    },
    {
      "cell_type": "code",
      "source": [
        "from sklearn.model_selection import train_test_split\n",
        "features_train, features_test, labels_train, labels_test = train_test_split(features, labels, test_size = 0.2, random_state = 0)"
      ],
      "metadata": {
        "id": "nB6iT3rAy0i9"
      },
      "execution_count": 70,
      "outputs": []
    },
    {
      "cell_type": "markdown",
      "source": [
        "### **6) Scaling**"
      ],
      "metadata": {
        "id": "fu82r9SOlAtr"
      }
    },
    {
      "cell_type": "code",
      "source": [
        "from sklearn.preprocessing import StandardScaler\n",
        "sc = StandardScaler() ## Creating Object\n",
        "features_train = sc.fit_transform(features_train) ## Coverting features_train  ## fit_transform used for train data for calcualting standard and mean deviation\n",
        "features_test = sc.transform(features_test) ## Coverting features_train ## Once calculated mean and standard deviation in above step, we have used same to scale \n",
        "# test # Therefore we have not used fit_transform for features_test"
      ],
      "metadata": {
        "id": "D4P7AQlvy0l_"
      },
      "execution_count": 71,
      "outputs": []
    },
    {
      "cell_type": "code",
      "source": [
        "features_train[0]  ## Some value is positive and some negative because of standard scaling"
      ],
      "metadata": {
        "colab": {
          "base_uri": "https://localhost:8080/"
        },
        "id": "n3KHMUQjy0pG",
        "outputId": "f16811b0-7b15-4f91-9495-8feed861f0c3"
      },
      "execution_count": 72,
      "outputs": [
        {
          "output_type": "execute_result",
          "data": {
            "text/plain": [
              "array([-0.56984437,  1.7430905 , -1.0916871 ,  0.16958177, -0.46460798,\n",
              "        0.00666099, -1.2157176 ,  0.8095029 ,  0.642595  , -1.0322704 ,\n",
              "        1.1064317 ], dtype=float32)"
            ]
          },
          "metadata": {},
          "execution_count": 72
        }
      ]
    },
    {
      "cell_type": "code",
      "source": [
        "## We have loaded data using pandas\n",
        "## Seperated features and labels\n",
        "## We did one hot encoding\n",
        "## We did feature scaling \n",
        "## Now we will jump into Deep Learning\n"
      ],
      "metadata": {
        "id": "9bNIF5tUy0r-"
      },
      "execution_count": 73,
      "outputs": []
    },
    {
      "cell_type": "markdown",
      "source": [
        "### **7) Creating ANN for for solving problem and do prediction**"
      ],
      "metadata": {
        "id": "L7M_N-TAlSHA"
      }
    },
    {
      "cell_type": "code",
      "source": [
        "# Importing the Keras libraries and packages\n",
        "\n",
        "import keras\n",
        "from keras.models import Sequential ## Method used to create any model \n",
        "from keras.layers import Dense"
      ],
      "metadata": {
        "id": "A2vw0r34y0yN"
      },
      "execution_count": 74,
      "outputs": []
    },
    {
      "cell_type": "code",
      "source": [
        "## A sequential class will create empty container , no layers in it "
      ],
      "metadata": {
        "id": "Mu19YK4hy01Q"
      },
      "execution_count": 75,
      "outputs": []
    },
    {
      "cell_type": "code",
      "source": [
        "classifier = Sequential()  ## Empty container created "
      ],
      "metadata": {
        "id": "l02YBXBEy040"
      },
      "execution_count": 76,
      "outputs": []
    },
    {
      "cell_type": "code",
      "source": [
        "features.shape ## 10000 rows and 11 columns, therfore we have 11 features \n",
        " ## Number of nodes in Input Layer = Number of features  = 11 "
      ],
      "metadata": {
        "colab": {
          "base_uri": "https://localhost:8080/"
        },
        "id": "aW64Z3ddy08K",
        "outputId": "ac6b8b49-6ca8-4704-899b-5f83dcf97ba4"
      },
      "execution_count": 77,
      "outputs": [
        {
          "output_type": "execute_result",
          "data": {
            "text/plain": [
              "(10000, 11)"
            ]
          },
          "metadata": {},
          "execution_count": 77
        }
      ]
    },
    {
      "cell_type": "code",
      "source": [
        "## We need to add layers in Empty container created \n",
        "## the first layer we add is hidden layer\n",
        "## We are not adding input layer first since while adding hidden layer we specify dimenions or no of features \n",
        "## The above process of adding hidden layer will add input layer "
      ],
      "metadata": {
        "id": "AH-jvHUZOQ73"
      },
      "execution_count": 78,
      "outputs": []
    },
    {
      "cell_type": "code",
      "source": [
        "# adding the first hidden layer\n",
        "classifier.add(Dense(units = 6, kernel_initializer = 'uniform', activation = 'relu', input_dim = 11))"
      ],
      "metadata": {
        "id": "4T2xE7zoOQ-W"
      },
      "execution_count": 79,
      "outputs": []
    },
    {
      "cell_type": "code",
      "source": [
        "###### Code explanation\n",
        "## classifier.add(Dense(units = 6, kernel_initializer = 'uniform', activation = 'relu', input_dim = 11))\n",
        " # classifier is the container created  \n",
        " # Dense means output of each node in one layer will go to all the nodes in next layer.\n",
        " # units = 6 is telling to add six nodes in hidden layer. No fixed count.\n",
        " # kernel_initializer = 'uniform' means to initialize weights by uniform value, since initially weight are randomly initialized\n",
        " # activation = 'relu; --  Since in Dense layer relu activation function used.\n",
        " # input_dim = 11  -- because there are 11 columns for features\n",
        " # The above code will add one hidden layer and one input layer"
      ],
      "metadata": {
        "id": "52wJI1NGQKrN"
      },
      "execution_count": 80,
      "outputs": []
    },
    {
      "cell_type": "code",
      "source": [
        "# Adding the second hidden layer\n",
        "classifier.add(Dense(units = 6, kernel_initializer = 'uniform', activation = 'relu'))\n",
        "\n",
        "# Adding the output layer\n",
        "classifier.add(Dense(units = 1, kernel_initializer = 'uniform', activation = 'sigmoid'))\n",
        "\n",
        "# Compiling the ANN\n",
        "classifier.compile(optimizer = 'adam', loss = 'binary_crossentropy', metrics = ['accuracy'])"
      ],
      "metadata": {
        "id": "2omevFJuORBE"
      },
      "execution_count": 81,
      "outputs": []
    },
    {
      "cell_type": "code",
      "source": [
        "###### Code explanation\n",
        "## Adding the second hidden layer\n",
        "## classifier.add(Dense(units = 6, kernel_initializer = 'uniform', activation = 'relu'))\n",
        " # again adding hidden layer, 6 noded, initializing weight uniformly and activation function relu\n",
        " # we are not adding input_dim = 11, since we know that input to this layer will come from previous hidden layer\n",
        "\n",
        "## Adding the output layer\n",
        "## classifier.add(Dense(units = 1, kernel_initializer = 'uniform')\n",
        " # Adding one unit because 1 because it is binary classification problem if customer will exit or not\n",
        " # Last layer we have to use sigmoid activation function\n",
        "\n",
        "\n",
        "## Compiling the ANN\n",
        " # classifier.compile(optimizer = 'adam', loss = 'binary_crossentropy', metrics = ['accuracy'])\n",
        " # optimizer will update weight for us, adam is the most popular. Will perform backpropagation or update weights base on loss function\n",
        " # loss = 'binary_crossentropy' loss is binary_crossentropy. It is a loss function which will check good or bad prediction based on\n",
        " # which optimizer will update weight\n",
        "\n",
        "## How many hidden layer we can add\n",
        " # We can experiment with any hidden layer based on accuracy. We have taken here 2 for Learning purpose.\n"
      ],
      "metadata": {
        "id": "-0cgfoFmORDi"
      },
      "execution_count": 82,
      "outputs": []
    },
    {
      "cell_type": "code",
      "source": [
        "classifier.fit(features_train, labels_train, batch_size = 10, epochs = 10)  ## Used for model fitting"
      ],
      "metadata": {
        "colab": {
          "base_uri": "https://localhost:8080/"
        },
        "id": "JIWXraTbORGF",
        "outputId": "9581b167-86f1-486b-9cf6-698e455e02ce"
      },
      "execution_count": 83,
      "outputs": [
        {
          "output_type": "stream",
          "name": "stdout",
          "text": [
            "Epoch 1/10\n",
            "800/800 [==============================] - 8s 3ms/step - loss: 0.4762 - accuracy: 0.7960\n",
            "Epoch 2/10\n",
            "800/800 [==============================] - 2s 3ms/step - loss: 0.4158 - accuracy: 0.7960\n",
            "Epoch 3/10\n",
            "800/800 [==============================] - 3s 4ms/step - loss: 0.4058 - accuracy: 0.8149\n",
            "Epoch 4/10\n",
            "800/800 [==============================] - 2s 3ms/step - loss: 0.3957 - accuracy: 0.8303\n",
            "Epoch 5/10\n",
            "800/800 [==============================] - 2s 3ms/step - loss: 0.3870 - accuracy: 0.8303\n",
            "Epoch 6/10\n",
            "800/800 [==============================] - 2s 3ms/step - loss: 0.3797 - accuracy: 0.8346\n",
            "Epoch 7/10\n",
            "800/800 [==============================] - 2s 3ms/step - loss: 0.3744 - accuracy: 0.8453\n",
            "Epoch 8/10\n",
            "800/800 [==============================] - 3s 3ms/step - loss: 0.3693 - accuracy: 0.8468\n",
            "Epoch 9/10\n",
            "800/800 [==============================] - 3s 4ms/step - loss: 0.3663 - accuracy: 0.8525\n",
            "Epoch 10/10\n",
            "800/800 [==============================] - 2s 3ms/step - loss: 0.3639 - accuracy: 0.8509\n"
          ]
        },
        {
          "output_type": "execute_result",
          "data": {
            "text/plain": [
              "<keras.callbacks.History at 0x7fdaa25d5e50>"
            ]
          },
          "metadata": {},
          "execution_count": 83
        }
      ]
    },
    {
      "cell_type": "code",
      "source": [
        "###### Code explanation\n",
        "## classifier.fit(features_train, labels_train, batch_size = 10, epochs = 10)  ## Used for model fitting\n",
        " # We pass data into batches. Since if data sixe large and we pass into memory it will give memory error.\n",
        " # 10000 records we are passing with batch size 10. Number of batches required  = 10000/10 =  1000\n",
        " # The above process is called epoch of passing data in batches\n",
        " # epochs = 10 , means above activity or training will happen 10 times\n",
        " # batch size dependent on RAM SIZE. Increasing  batch size  and epochs will take more time\n",
        " # It will take more time if data is in in image format"
      ],
      "metadata": {
        "id": "D8_00yBOTrHz"
      },
      "execution_count": 85,
      "outputs": []
    },
    {
      "cell_type": "markdown",
      "source": [
        "### **8) Prediction**"
      ],
      "metadata": {
        "id": "e_t_1cTHloPK"
      }
    },
    {
      "cell_type": "code",
      "source": [
        "labels_pred = classifier.predict_classes(features_test)  \n",
        "## Is throwing error https://stackoverflow.com/questions/68836551/keras-attributeerror-sequential-object-has-no-attribute-predict-classes\n",
        "#labels_pred = (labels_pred > 0.5)"
      ],
      "metadata": {
        "colab": {
          "base_uri": "https://localhost:8080/",
          "height": 208
        },
        "id": "GfPxOidlTrKx",
        "outputId": "bf505cf4-5301-4240-f92b-49e27cdf1b0c"
      },
      "execution_count": 86,
      "outputs": [
        {
          "output_type": "error",
          "ename": "AttributeError",
          "evalue": "ignored",
          "traceback": [
            "\u001b[0;31m---------------------------------------------------------------------------\u001b[0m",
            "\u001b[0;31mAttributeError\u001b[0m                            Traceback (most recent call last)",
            "\u001b[0;32m<ipython-input-86-be44e702d81e>\u001b[0m in \u001b[0;36m<cell line: 1>\u001b[0;34m()\u001b[0m\n\u001b[0;32m----> 1\u001b[0;31m \u001b[0mlabels_pred\u001b[0m \u001b[0;34m=\u001b[0m \u001b[0mclassifier\u001b[0m\u001b[0;34m.\u001b[0m\u001b[0mpredict_classes\u001b[0m\u001b[0;34m(\u001b[0m\u001b[0mfeatures_test\u001b[0m\u001b[0;34m)\u001b[0m\u001b[0;34m\u001b[0m\u001b[0;34m\u001b[0m\u001b[0m\n\u001b[0m\u001b[1;32m      2\u001b[0m \u001b[0;31m## Is throwing error https://stackoverflow.com/questions/68836551/keras-attributeerror-sequential-object-has-no-attribute-predict-classes\u001b[0m\u001b[0;34m\u001b[0m\u001b[0;34m\u001b[0m\u001b[0m\n\u001b[1;32m      3\u001b[0m \u001b[0;31m#labels_pred = (labels_pred > 0.5)\u001b[0m\u001b[0;34m\u001b[0m\u001b[0;34m\u001b[0m\u001b[0m\n",
            "\u001b[0;31mAttributeError\u001b[0m: 'Sequential' object has no attribute 'predict_classes'"
          ]
        }
      ]
    },
    {
      "cell_type": "code",
      "source": [
        "## The error solution is found in \n",
        " # https://stackoverflow.com/questions/68836551/keras-attributeerror-sequential-object-has-no-attribute-predict-classes/70689389#70689389\n",
        " # In the newest version of Tensorflow, the predict_classes function has been deprecated \n",
        " # (there was a warning in previous versions about this). The new syntax is as follows:\n",
        " # predictions = np.argmax(model.predict(x_test),axis=1)\n",
        " # labels_pred = np.argmax(classifier.predict(features_test),axis=1)  \n",
        " # is used for muliclass classification \n",
        " # (e.g. if it uses a softmax last-layer activation)\n",
        " # (model.predict(x) > 0.5).astype(\"int32\"), if your model does binary classification (e.g. if it uses a sigmoid last-layer activation).\n"
      ],
      "metadata": {
        "id": "tXhoNIQzg7xo"
      },
      "execution_count": 87,
      "outputs": []
    },
    {
      "cell_type": "code",
      "source": [
        "labels_pred = (classifier.predict(features_test) > 0.5).astype(\"int32\")"
      ],
      "metadata": {
        "colab": {
          "base_uri": "https://localhost:8080/"
        },
        "id": "AVxCkEmpjxpI",
        "outputId": "60c13954-c8ac-4430-8115-74db892874fa"
      },
      "execution_count": 88,
      "outputs": [
        {
          "output_type": "stream",
          "name": "stdout",
          "text": [
            "63/63 [==============================] - 0s 2ms/step\n"
          ]
        }
      ]
    },
    {
      "cell_type": "code",
      "source": [
        "labels_pred"
      ],
      "metadata": {
        "colab": {
          "base_uri": "https://localhost:8080/"
        },
        "id": "mDfd7BFUhuhv",
        "outputId": "2a275462-d047-4250-ef8a-512180d1bb46"
      },
      "execution_count": 89,
      "outputs": [
        {
          "output_type": "execute_result",
          "data": {
            "text/plain": [
              "array([[0],\n",
              "       [0],\n",
              "       [0],\n",
              "       ...,\n",
              "       [0],\n",
              "       [0],\n",
              "       [0]], dtype=int32)"
            ]
          },
          "metadata": {},
          "execution_count": 89
        }
      ]
    },
    {
      "cell_type": "markdown",
      "source": [
        "### **9) Checking Accuracy**"
      ],
      "metadata": {
        "id": "PUTo9b1OlwSe"
      }
    },
    {
      "cell_type": "code",
      "source": [
        "from sklearn.metrics import confusion_matrix\n",
        "cm = confusion_matrix(labels_test, labels_pred)"
      ],
      "metadata": {
        "id": "V-JNWQTJf4PK"
      },
      "execution_count": 90,
      "outputs": []
    },
    {
      "cell_type": "code",
      "source": [
        "cm"
      ],
      "metadata": {
        "colab": {
          "base_uri": "https://localhost:8080/"
        },
        "id": "1wd1xOtRf4SM",
        "outputId": "de8074e6-a493-41fc-b3f3-4f6a8ed058ac"
      },
      "execution_count": 91,
      "outputs": [
        {
          "output_type": "execute_result",
          "data": {
            "text/plain": [
              "array([[1506,   89],\n",
              "       [ 202,  203]])"
            ]
          },
          "metadata": {},
          "execution_count": 91
        }
      ]
    },
    {
      "cell_type": "code",
      "source": [
        "## Using confusion matrix we can say how many cases are predicted are correct and wrong\n",
        "## diagonal values 1506 and 203 are correctly predicted\n",
        "## 1506 - I predicted 0 and it is 0\n",
        "## 203 - I predicted 1 and it is 1\n",
        "## 89 - I predicted 1 and it is 0\n",
        "## 202 - I predicted 0 and it is 1"
      ],
      "metadata": {
        "id": "JjA0BXPaf4VL"
      },
      "execution_count": 92,
      "outputs": []
    },
    {
      "cell_type": "code",
      "source": [],
      "metadata": {
        "id": "-xz4mGXDf4Ys"
      },
      "execution_count": null,
      "outputs": []
    },
    {
      "cell_type": "code",
      "source": [],
      "metadata": {
        "id": "lBcLdp-shZUL"
      },
      "execution_count": null,
      "outputs": []
    }
  ]
}